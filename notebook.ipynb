{
 "cells": [
  {
   "cell_type": "markdown",
   "id": "b497ebc7",
   "metadata": {},
   "source": [
    "# Introduction"
   ]
  },
  {
   "cell_type": "markdown",
   "id": "79eab785",
   "metadata": {},
   "source": [
    "Main Points:\n",
    "- webscrape https://www.atptour.com/ for pro-level match data\n",
    "- Output two .csv files \n",
    "    - Whole tournament data for summary statistics dashboard\n",
    "    - Point by Point (PBP) data for Match Viewer website\n",
    "        - Attach timestamps using website tagger"
   ]
  },
  {
   "cell_type": "markdown",
   "id": "accc8e20",
   "metadata": {},
   "source": [
    "# Install Libraries\n",
    "\n",
    "For this project the only libraries we'll need are `requests_html`, `requests`, `bs4`, and `pandas`. These will allow us to access the page HTML, search through the HTML, and put the HTML into something readable like a dataframe."
   ]
  },
  {
   "cell_type": "code",
   "execution_count": 1,
   "id": "e9471797",
   "metadata": {},
   "outputs": [],
   "source": [
    "from requests_html import AsyncHTMLSession\n",
    "from bs4 import BeautifulSoup\n",
    "import pandas as pd\n",
    "import requests"
   ]
  },
  {
   "cell_type": "markdown",
   "id": "d711e8c6",
   "metadata": {},
   "source": [
    "# Get Page HTML for Tournament\n",
    "\n",
    "For this match example, we're taking a look at a challenger tournament, Little Rock 2024. Particularly, the play Rudy Quan as he is one of the players joining the UCLA team in the upcoming school year.\n",
    "\n",
    "After getting the page, we'll check to make sure that the request was okay."
   ]
  },
  {
   "cell_type": "code",
   "execution_count": 24,
   "id": "a196a9f4",
   "metadata": {
    "scrolled": false
   },
   "outputs": [
    {
     "data": {
      "text/plain": [
       "(200, True)"
      ]
     },
     "execution_count": 24,
     "metadata": {},
     "output_type": "execute_result"
    }
   ],
   "source": [
    "tournament_page = requests.get('https://www.atptour.com/en/scores/archive/little-rock/9188/2024/draws')\n",
    "tournament_page.status_code, tournament_page.ok"
   ]
  },
  {
   "cell_type": "markdown",
   "id": "9ed07b4d",
   "metadata": {},
   "source": [
    "The we can use BeautfulSoup to help us manange and search through the HTML a lot easier."
   ]
  },
  {
   "cell_type": "code",
   "execution_count": 25,
   "id": "39eab77b",
   "metadata": {},
   "outputs": [],
   "source": [
    "tournament_soup = BeautifulSoup(tournament_page.text, 'html')"
   ]
  },
  {
   "cell_type": "markdown",
   "id": "b61152c0",
   "metadata": {},
   "source": [
    "# Tournament Summary Statistics Dashboard"
   ]
  },
  {
   "cell_type": "markdown",
   "id": "789d297c",
   "metadata": {},
   "source": [
    "### Get First Match Stats Link from Soup"
   ]
  },
  {
   "cell_type": "code",
   "execution_count": 67,
   "id": "10a7ca66",
   "metadata": {},
   "outputs": [
    {
     "data": {
      "text/plain": [
       "'https://atptour.com/en/scores/stats-centre/archive/2024/9188/ms016'"
      ]
     },
     "execution_count": 67,
     "metadata": {},
     "output_type": "execute_result"
    }
   ],
   "source": [
    "# get stats of first match in first draw\n",
    "draw_1 = tournament_soup.find_all('div', class_='draw')[0]\n",
    "match_stats = draw_1.find_all('div', class_='stats-cta')[0]\n",
    "stats_link = 'https://atptour.com' + match_stats.find_all('a')[-1].get('href')\n",
    "stats_link"
   ]
  },
  {
   "cell_type": "markdown",
   "id": "40c65e8a",
   "metadata": {},
   "source": [
    "### Get Player Info and Match Statistics from Link\n",
    "\n",
    "Firstly we'll get the HTML and convert it to BeautifulSoup. In order to do this correctly, we need to utilize a library called `requests-html`. This allows us to fully render the HTML as some pages on the ATP Tour website are dynamically loaded after the first response. This means we'd be getting only snippets of the HTML, or HTML that has no relevant values that we need to scrape."
   ]
  },
  {
   "cell_type": "code",
   "execution_count": 100,
   "id": "b91c3c57",
   "metadata": {},
   "outputs": [
    {
     "name": "stdout",
     "output_type": "stream",
     "text": [
      "Success!\n"
     ]
    }
   ],
   "source": [
    "session = AsyncHTMLSession()\n",
    "response = await session.get(stats_link)\n",
    "if response.ok:\n",
    "    await response.html.arender()\n",
    "    stats_soup = BeautifulSoup(response.html.html, 'html.parser')\n",
    "    print('Success!')"
   ]
  },
  {
   "cell_type": "code",
   "execution_count": 105,
   "id": "f50c4817",
   "metadata": {},
   "outputs": [
    {
     "data": {
      "text/plain": [
       "'Singles Round of 32'"
      ]
     },
     "execution_count": 105,
     "metadata": {},
     "output_type": "execute_result"
    }
   ],
   "source": [
    "stats_soup.find_all('div', class_='match-header')[0].find('strong').text"
   ]
  }
 ],
 "metadata": {
  "kernelspec": {
   "display_name": "Python 3 (ipykernel)",
   "language": "python",
   "name": "python3"
  },
  "language_info": {
   "codemirror_mode": {
    "name": "ipython",
    "version": 3
   },
   "file_extension": ".py",
   "mimetype": "text/x-python",
   "name": "python",
   "nbconvert_exporter": "python",
   "pygments_lexer": "ipython3",
   "version": "3.8.19"
  }
 },
 "nbformat": 4,
 "nbformat_minor": 5
}
