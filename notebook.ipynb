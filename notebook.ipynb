{
 "cells": [
  {
   "cell_type": "markdown",
   "id": "b497ebc7",
   "metadata": {},
   "source": [
    "# Introduction"
   ]
  },
  {
   "cell_type": "markdown",
   "id": "79eab785",
   "metadata": {},
   "source": [
    "Main Points:\n",
    "- webscrape https://www.atptour.com/ for pro-level match data\n",
    "- Output two .csv files \n",
    "    - Whole tournament data for summary statistics dashboard\n",
    "    - Point by Point (PBP) data for Match Viewer website\n",
    "        - Attach timestamps using website tagger"
   ]
  },
  {
   "cell_type": "markdown",
   "id": "accc8e20",
   "metadata": {},
   "source": [
    "# Install Libraries\n",
    "\n",
    "For this project the only libraries we'll need are `requests_html`, `requests`, `bs4` (BeautifulSoup), `pandas`, `numpy` and `re` (Regular Expression). These will allow us to access the page HTML, search through the HTML, and put the HTML into something readable like a dataframe."
   ]
  },
  {
   "cell_type": "code",
   "execution_count": 132,
   "id": "e9471797",
   "metadata": {},
   "outputs": [],
   "source": [
    "from requests_html import AsyncHTMLSession\n",
    "from bs4 import BeautifulSoup\n",
    "import pandas as pd\n",
    "import numpy as np\n",
    "import requests\n",
    "import re"
   ]
  },
  {
   "cell_type": "markdown",
   "id": "5766417c",
   "metadata": {},
   "source": [
    "# Get Page HTML for Tournament\n",
    "\n",
    "For this match example, we're taking a look at a challenger tournament, Little Rock 2024. Particularly, the play Rudy Quan as he is one of the players joining the UCLA team in the upcoming school year.\n",
    "\n",
    "After getting the page, we'll check to make sure that the request was okay."
   ]
  },
  {
   "cell_type": "code",
   "execution_count": 284,
   "id": "a196a9f4",
   "metadata": {
    "scrolled": false
   },
   "outputs": [
    {
     "data": {
      "text/plain": [
       "(200, True)"
      ]
     },
     "execution_count": 284,
     "metadata": {},
     "output_type": "execute_result"
    }
   ],
   "source": [
    "tournament_page = requests.get('https://www.atptour.com/en/scores/archive/little-rock/9188/2024/results')\n",
    "tournament_page.status_code, tournament_page.ok"
   ]
  },
  {
   "cell_type": "markdown",
   "id": "34a1636a",
   "metadata": {},
   "source": [
    "The we can use BeautfulSoup to help us manange and search through the HTML a lot easier."
   ]
  },
  {
   "cell_type": "code",
   "execution_count": 195,
   "id": "39eab77b",
   "metadata": {},
   "outputs": [],
   "source": [
    "tournament_soup = BeautifulSoup(tournament_page.text, 'html')"
   ]
  },
  {
   "cell_type": "markdown",
   "id": "b61152c0",
   "metadata": {},
   "source": [
    "# Tournament Summary Statistics Dashboard"
   ]
  },
  {
   "cell_type": "markdown",
   "id": "789d297c",
   "metadata": {},
   "source": [
    "### Get First Match Stats Link from Soup"
   ]
  },
  {
   "cell_type": "code",
   "execution_count": 219,
   "id": "cf9ec165",
   "metadata": {
    "scrolled": true
   },
   "outputs": [
    {
     "data": {
      "text/plain": [
       "'https://atptour.com/en/scores/stats-centre/archive/2024/9188/qs016'"
      ]
     },
     "execution_count": 219,
     "metadata": {},
     "output_type": "execute_result"
    }
   ],
   "source": [
    "# get stats of first match in first draw\n",
    "qual_1 = tournament_soup.find_all('div', class_='atp_accordion-item')[-1]\n",
    "match_stats = qual_1.find_all('div', class_='match-cta')[0]\n",
    "stats_link = 'https://atptour.com' + match_stats.find_all('a')[1].get('href')\n",
    "stats_link"
   ]
  },
  {
   "cell_type": "markdown",
   "id": "24b18c0f",
   "metadata": {},
   "source": [
    "### Get HTML and Link to Match Stats\n",
    "\n",
    "Firstly we'll get the HTML and convert it to BeautifulSoup. In order to do this correctly, we need to utilize a library called `requests-html`. This allows us to fully render the HTML as some pages on the ATP Tour website are dynamically loaded after the first response. This means we'd be getting only snippets of the HTML, or HTML that has no relevant values that we need to scrape."
   ]
  },
  {
   "cell_type": "code",
   "execution_count": 220,
   "id": "6504ffcb",
   "metadata": {},
   "outputs": [
    {
     "name": "stdout",
     "output_type": "stream",
     "text": [
      "Success!\n"
     ]
    }
   ],
   "source": [
    "session = AsyncHTMLSession()\n",
    "response = await session.get(stats_link)\n",
    "if response.ok:\n",
    "    await response.html.arender()\n",
    "    stats_soup = BeautifulSoup(response.html.html, 'html.parser')\n",
    "    print('Success!')"
   ]
  },
  {
   "cell_type": "markdown",
   "id": "8dcc6457",
   "metadata": {},
   "source": [
    "### Extract Relevant Information about Match/Tournament\n",
    "\n",
    "Here we'll scrape for things like the date, the tournament name, the match score, the match time, and the round number, etc. Below is an example of the first qualifying match."
   ]
  },
  {
   "cell_type": "code",
   "execution_count": 225,
   "id": "a6a81587",
   "metadata": {},
   "outputs": [
    {
     "data": {
      "text/plain": [
       "('Sun, 26 May, 2024',\n",
       " 'UAMS Health Little Rock Open',\n",
       " '6-3, 6-1',\n",
       " 'Singles 1st Round Qualifying',\n",
       " '01:20:29')"
      ]
     },
     "execution_count": 225,
     "metadata": {},
     "output_type": "execute_result"
    }
   ],
   "source": [
    "# extract tournament info\n",
    "date = qual_1.find('div', class_='tournament-day').text\n",
    "date = re.search(r'\\w{3}, \\d{2} \\w+, \\d{4}', qual_1.find('div', class_='tournament-day').text)[0]\n",
    "\n",
    "tournament_name = stats_soup.find('div', class_='event-name').text\n",
    "scores = stats_soup.find('div', class_='match-notes').text\n",
    "scores = ', '.join(re.findall(r'\\d{1}-\\d{1}\\(\\d{1}\\)|\\d{1}-\\d{1}', scores))\n",
    "\n",
    "# extract round info\n",
    "round_info = stats_soup.find_all('div', class_='match-header')[0].find_all('span')\n",
    "round_number = round_info[0].text.strip()[:-1]\n",
    "match_time = round_info[1].text.strip()\n",
    "\n",
    "date, tournament_name, scores, round_number, match_time"
   ]
  },
  {
   "cell_type": "code",
   "execution_count": 252,
   "id": "664ce501",
   "metadata": {},
   "outputs": [
    {
     "data": {
      "text/plain": [
       "[<div class=\"name\"><a href=\"/en/players/bruno-kuzuhara/k0hn/overview\">B. Kuzuhara</a> <!-- --></div>,\n",
       " <div class=\"name\"><a href=\"/en/players/boris-kozlov/k0af/overview\">B. Kozlov</a> <!-- --></div>]"
      ]
     },
     "execution_count": 252,
     "metadata": {},
     "output_type": "execute_result"
    }
   ],
   "source": [
    "stats_soup.find_all('div', class_='name')"
   ]
  },
  {
   "cell_type": "code",
   "execution_count": 257,
   "id": "9921e96f",
   "metadata": {},
   "outputs": [
    {
     "data": {
      "text/plain": [
       "'Bruno Kuzuhara vs. Boris Kozlov Little Rock 2024 1st Round Qualifying | Stats Centre | ATP Tour | Tennis'"
      ]
     },
     "execution_count": 257,
     "metadata": {},
     "output_type": "execute_result"
    }
   ],
   "source": [
    "stats_soup.find('title').text"
   ]
  },
  {
   "cell_type": "code",
   "execution_count": 256,
   "id": "cf221b80",
   "metadata": {},
   "outputs": [
    {
     "data": {
      "text/plain": [
       "['Kuzuhara vs. Boris']"
      ]
     },
     "execution_count": 256,
     "metadata": {},
     "output_type": "execute_result"
    }
   ],
   "source": [
    "re.findall(r'\\w+ vs. \\w+', stats_soup.find('title').text)"
   ]
  },
  {
   "cell_type": "code",
   "execution_count": 260,
   "id": "6012d194",
   "metadata": {},
   "outputs": [],
   "source": [
    "stats_soup.find('div', class_='player-team')"
   ]
  },
  {
   "cell_type": "code",
   "execution_count": 222,
   "id": "a0fb105b",
   "metadata": {},
   "outputs": [
    {
     "data": {
      "text/plain": [
       "('E. Escobedo', 'N. Becker')"
      ]
     },
     "execution_count": 222,
     "metadata": {},
     "output_type": "execute_result"
    }
   ],
   "source": [
    "# get names of both players\n",
    "player_1 = stats_soup.find_all('div', class_='name')[0].text.strip()\n",
    "player_2 = stats_soup.find_all('div', class_='name')[1].text.strip()\n",
    "\n",
    "player_1, player_2"
   ]
  },
  {
   "cell_type": "markdown",
   "id": "6b1661f7",
   "metadata": {},
   "source": [
    "### Get All Match Stats \n",
    "\n",
    "Get all the stats from the match stats and put them in a dataframe with the previously scraped data. "
   ]
  },
  {
   "cell_type": "code",
   "execution_count": 223,
   "id": "3f2d3568",
   "metadata": {},
   "outputs": [],
   "source": [
    "# get all stats and iterate assign each to the respective player\n",
    "all_stats = stats_soup.find_all('div', attrs={'data-test': 'StatsTile'})"
   ]
  },
  {
   "cell_type": "code",
   "execution_count": 226,
   "id": "92e49cc4",
   "metadata": {},
   "outputs": [
    {
     "data": {
      "text/html": [
       "<div>\n",
       "<style scoped>\n",
       "    .dataframe tbody tr th:only-of-type {\n",
       "        vertical-align: middle;\n",
       "    }\n",
       "\n",
       "    .dataframe tbody tr th {\n",
       "        vertical-align: top;\n",
       "    }\n",
       "\n",
       "    .dataframe thead th {\n",
       "        text-align: right;\n",
       "    }\n",
       "</style>\n",
       "<table border=\"1\" class=\"dataframe\">\n",
       "  <thead>\n",
       "    <tr style=\"text-align: right;\">\n",
       "      <th></th>\n",
       "      <th>date</th>\n",
       "      <th>tournament</th>\n",
       "      <th>match_time</th>\n",
       "      <th>round</th>\n",
       "      <th>player_1</th>\n",
       "      <th>player_2</th>\n",
       "      <th>score</th>\n",
       "      <th>serve_rating_p1</th>\n",
       "      <th>serve_rating_p2</th>\n",
       "      <th>aces_p1</th>\n",
       "      <th>...</th>\n",
       "      <th>break_points_converted_p1</th>\n",
       "      <th>break_points_converted_p2</th>\n",
       "      <th>return_games_played_p1</th>\n",
       "      <th>return_games_played_p2</th>\n",
       "      <th>service_points_won_p1</th>\n",
       "      <th>service_points_won_p2</th>\n",
       "      <th>return_points_won_p1</th>\n",
       "      <th>return_points_won_p2</th>\n",
       "      <th>total_points_won_p1</th>\n",
       "      <th>total_points_won_p2</th>\n",
       "    </tr>\n",
       "  </thead>\n",
       "  <tbody>\n",
       "    <tr>\n",
       "      <th>0</th>\n",
       "      <td>Sun, 26 May, 2024</td>\n",
       "      <td>UAMS Health Little Rock Open</td>\n",
       "      <td>01:20:29</td>\n",
       "      <td>Singles 1st Round Qualifying</td>\n",
       "      <td>E. Escobedo</td>\n",
       "      <td>N. Becker</td>\n",
       "      <td>6-3, 6-1</td>\n",
       "      <td>343</td>\n",
       "      <td>189</td>\n",
       "      <td>4</td>\n",
       "      <td>...</td>\n",
       "      <td>4/10</td>\n",
       "      <td>0/0</td>\n",
       "      <td>8</td>\n",
       "      <td>8</td>\n",
       "      <td>32/35</td>\n",
       "      <td>27/58</td>\n",
       "      <td>31/58</td>\n",
       "      <td>3/35</td>\n",
       "      <td>63/93</td>\n",
       "      <td>30/93</td>\n",
       "    </tr>\n",
       "  </tbody>\n",
       "</table>\n",
       "<p>1 rows × 39 columns</p>\n",
       "</div>"
      ],
      "text/plain": [
       "                date                    tournament match_time  \\\n",
       "0  Sun, 26 May, 2024  UAMS Health Little Rock Open   01:20:29   \n",
       "\n",
       "                          round     player_1   player_2     score  \\\n",
       "0  Singles 1st Round Qualifying  E. Escobedo  N. Becker  6-3, 6-1   \n",
       "\n",
       "   serve_rating_p1  serve_rating_p2  aces_p1  ...  break_points_converted_p1  \\\n",
       "0              343              189        4  ...                       4/10   \n",
       "\n",
       "   break_points_converted_p2  return_games_played_p1 return_games_played_p2  \\\n",
       "0                        0/0                       8                      8   \n",
       "\n",
       "  service_points_won_p1 service_points_won_p2 return_points_won_p1  \\\n",
       "0                 32/35                 27/58                31/58   \n",
       "\n",
       "  return_points_won_p2 total_points_won_p1 total_points_won_p2  \n",
       "0                 3/35               63/93               30/93  \n",
       "\n",
       "[1 rows x 39 columns]"
      ]
     },
     "execution_count": 226,
     "metadata": {},
     "output_type": "execute_result"
    }
   ],
   "source": [
    "# initilize list of all statistics\n",
    "statistics = [\n",
    "    'serve_rating',\n",
    "    'aces',\n",
    "    'double_faults',\n",
    "    'first_serve',\n",
    "    '1st_serve_points_won',\n",
    "    '2nd_serve_points_won',\n",
    "    'break_points_saved',\n",
    "    'service_games_played',\n",
    "    'return_rating',\n",
    "    '1st_serve_return_points_won',\n",
    "    '2nd_serve_return_points_won',\n",
    "    'break_points_converted',\n",
    "    'return_games_played',\n",
    "    'service_points_won',\n",
    "    'return_points_won',\n",
    "    'total_points_won'\n",
    "]\n",
    "\n",
    "# add already scraped data\n",
    "row_stats = {\n",
    "    'date': date,\n",
    "    'tournament': tournament_name,\n",
    "    'match_time': match_time,\n",
    "    'round': round_number,\n",
    "    'player_1': player_1,\n",
    "    'player_2': player_2,\n",
    "    'score': scores\n",
    "}\n",
    "\n",
    "\n",
    "# add each stat for each player to the dataframe\n",
    "for i in range(len(statistics)):\n",
    "    # convert stat to int if it is a single integer stat\n",
    "    if (0 <= i and i < 3) or (7 <= i and i < 9) or (i == 12):\n",
    "        p1_stat = int(all_stats[i].find('div', class_='player1').text.strip())\n",
    "        p2_stat = int(all_stats[i].find('div', class_='player2').text.strip())\n",
    "        \n",
    "    # remove percent from fraction stats\n",
    "    else: \n",
    "        p1_stat = all_stats[i].find('div', class_='player1').text.strip().split()[0]\n",
    "        p2_stat = all_stats[i].find('div', class_='player2').text.strip().split()[0]\n",
    "    \n",
    "    # add stats for each player to dictionary (row in df)\n",
    "    row_stats[f'{statistics[i]}_p1'] = p1_stat\n",
    "    row_stats[f'{statistics[i]}_p2'] = p2_stat\n",
    "    \n",
    "pd.DataFrame([row_stats])"
   ]
  },
  {
   "cell_type": "markdown",
   "id": "cd902a9e",
   "metadata": {},
   "source": [
    "### Generalize the Scraping to Get Whole Tournament Data"
   ]
  },
  {
   "cell_type": "code",
   "execution_count": 194,
   "id": "b95a03cf",
   "metadata": {
    "scrolled": true
   },
   "outputs": [
    {
     "data": {
      "text/plain": [
       "(200, True)"
      ]
     },
     "execution_count": 194,
     "metadata": {},
     "output_type": "execute_result"
    }
   ],
   "source": [
    "tournament_page = requests.get('https://www.atptour.com/en/scores/archive/little-rock/9188/2024/results')\n",
    "tournament_page.status_code, tournament_page.ok"
   ]
  },
  {
   "cell_type": "code",
   "execution_count": 288,
   "id": "00189def",
   "metadata": {
    "scrolled": true
   },
   "outputs": [
    {
     "ename": "IndexError",
     "evalue": "list index out of range",
     "output_type": "error",
     "traceback": [
      "\u001b[0;31m---------------------------------------------------------------------------\u001b[0m",
      "\u001b[0;31mIndexError\u001b[0m                                Traceback (most recent call last)",
      "Cell \u001b[0;32mIn[288], line 31\u001b[0m\n\u001b[1;32m     28\u001b[0m stats_soup \u001b[38;5;241m=\u001b[39m BeautifulSoup(response\u001b[38;5;241m.\u001b[39mhtml\u001b[38;5;241m.\u001b[39mhtml, \u001b[38;5;124m'\u001b[39m\u001b[38;5;124mhtml.parser\u001b[39m\u001b[38;5;124m'\u001b[39m)\n\u001b[1;32m     30\u001b[0m \u001b[38;5;66;03m# scrape match info\u001b[39;00m\n\u001b[0;32m---> 31\u001b[0m player_1 \u001b[38;5;241m=\u001b[39m stats_soup\u001b[38;5;241m.\u001b[39mfind_all(\u001b[38;5;124m'\u001b[39m\u001b[38;5;124mdiv\u001b[39m\u001b[38;5;124m'\u001b[39m, class_\u001b[38;5;241m=\u001b[39m\u001b[38;5;124m'\u001b[39m\u001b[38;5;124mname\u001b[39m\u001b[38;5;124m'\u001b[39m)[\u001b[38;5;241m0\u001b[39m]\u001b[38;5;241m.\u001b[39mtext\u001b[38;5;241m.\u001b[39mstrip()\n\u001b[1;32m     32\u001b[0m player_2 \u001b[38;5;241m=\u001b[39m stats_soup\u001b[38;5;241m.\u001b[39mfind_all(\u001b[38;5;124m'\u001b[39m\u001b[38;5;124mdiv\u001b[39m\u001b[38;5;124m'\u001b[39m, class_\u001b[38;5;241m=\u001b[39m\u001b[38;5;124m'\u001b[39m\u001b[38;5;124mname\u001b[39m\u001b[38;5;124m'\u001b[39m)[\u001b[38;5;241m1\u001b[39m]\u001b[38;5;241m.\u001b[39mtext\u001b[38;5;241m.\u001b[39mstrip()\n\u001b[1;32m     33\u001b[0m tournament_name \u001b[38;5;241m=\u001b[39m stats_soup\u001b[38;5;241m.\u001b[39mfind(\u001b[38;5;124m'\u001b[39m\u001b[38;5;124mdiv\u001b[39m\u001b[38;5;124m'\u001b[39m, class_\u001b[38;5;241m=\u001b[39m\u001b[38;5;124m'\u001b[39m\u001b[38;5;124mevent-name\u001b[39m\u001b[38;5;124m'\u001b[39m)\u001b[38;5;241m.\u001b[39mtext\n",
      "\u001b[0;31mIndexError\u001b[0m: list index out of range"
     ]
    }
   ],
   "source": [
    "# initilize list for each row\n",
    "rows = []\n",
    "\n",
    "# get day container for all matches\n",
    "all_days = tournament_soup.find_all('div', class_='atp_accordion-item')\n",
    "\n",
    "# iterate through days backwards to sort them chronologically\n",
    "for i in range(len(all_days) - 1, -1, -1):\n",
    "# for i in range(-1, 0):\n",
    "    # scape current day\n",
    "    date = all_days[i].find('div', class_='tournament-day').text\n",
    "    date = re.search(r'\\w{3}, \\d{2} \\w+, \\d{4}', qual_1.find('div', class_='tournament-day').text)[0]\n",
    "    \n",
    "    # get every stats link in the current day\n",
    "    all_match_stats = all_days[i].find_all('div', class_='match-cta')\n",
    "    \n",
    "    # iterate through all match stats and scrape for data\n",
    "    for div in all_match_stats:\n",
    "        # create link to scrape from\n",
    "        stats_link = 'https://atptour.com' + div.find_all('a')[1].get('href')\n",
    "        \n",
    "        # create new session to scrape HTML generated by JS\n",
    "        session = AsyncHTMLSession()\n",
    "        response = await session.get(stats_link)\n",
    "        await response.html.arender()\n",
    "        \n",
    "        # convert HTML to BeautifulSoup\n",
    "        stats_soup = BeautifulSoup(response.html.html, 'html.parser')\n",
    "        \n",
    "        # scrape match info\n",
    "        player_1 = stats_soup.find_all('div', class_='name')[0].text.strip()\n",
    "        player_2 = stats_soup.find_all('div', class_='name')[1].text.strip()\n",
    "        tournament_name = stats_soup.find('div', class_='event-name').text\n",
    "        scores = stats_soup.find('div', class_='match-notes').text\n",
    "        scores = ', '.join(re.findall(r'\\d{1}-\\d{1}\\(\\d{1}\\)|\\d{1}-\\d{1}', scores))\n",
    "        match_time = round_info[1].text.strip()\n",
    "        round_info = stats_soup.find_all('div', class_='match-header')[0].find_all('span')\n",
    "        round_number = round_info[0].text.strip().strip('.')\n",
    "        \n",
    "        # add scraped info to dictionary for dataframe\n",
    "        row_stats = {\n",
    "            'date': date,\n",
    "            'tournament': tournament_name,\n",
    "            'match_time': match_time,\n",
    "            'round': round_number,\n",
    "            'player_1': player_1,\n",
    "            'player_2': player_2,\n",
    "            'score': scores\n",
    "        }\n",
    "        \n",
    "        # add each stat for each player to the dataframe\n",
    "        for i in range(len(statistics)):\n",
    "            # convert stat to int if it is a single integer stat\n",
    "            if (0 <= i and i < 3) or (7 <= i and i < 9) or (i == 12):\n",
    "                p1_stat = int(all_stats[i].find('div', class_='player1').text.strip())\n",
    "                p2_stat = int(all_stats[i].find('div', class_='player2').text.strip())\n",
    "\n",
    "            # remove percent from fraction stats\n",
    "            else: \n",
    "                p1_stat = all_stats[i].find('div', class_='player1').text.strip().split()[0]\n",
    "                p2_stat = all_stats[i].find('div', class_='player2').text.strip().split()[0]\n",
    "\n",
    "            # add stats for each player to dictionary (row in df)\n",
    "            row_stats[f'{statistics[i]}_p1'] = p1_stat\n",
    "            row_stats[f'{statistics[i]}_p2'] = p2_stat\n",
    "\n",
    "        rows.append(pd.DataFrame([row_stats]))"
   ]
  },
  {
   "cell_type": "code",
   "execution_count": 289,
   "id": "6c046844",
   "metadata": {},
   "outputs": [
    {
     "data": {
      "text/html": [
       "<div>\n",
       "<style scoped>\n",
       "    .dataframe tbody tr th:only-of-type {\n",
       "        vertical-align: middle;\n",
       "    }\n",
       "\n",
       "    .dataframe tbody tr th {\n",
       "        vertical-align: top;\n",
       "    }\n",
       "\n",
       "    .dataframe thead th {\n",
       "        text-align: right;\n",
       "    }\n",
       "</style>\n",
       "<table border=\"1\" class=\"dataframe\">\n",
       "  <thead>\n",
       "    <tr style=\"text-align: right;\">\n",
       "      <th></th>\n",
       "      <th>date</th>\n",
       "      <th>tournament</th>\n",
       "      <th>match_time</th>\n",
       "      <th>round</th>\n",
       "      <th>player_1</th>\n",
       "      <th>player_2</th>\n",
       "      <th>score</th>\n",
       "      <th>serve_rating_p1</th>\n",
       "      <th>serve_rating_p2</th>\n",
       "      <th>aces_p1</th>\n",
       "      <th>...</th>\n",
       "      <th>break_points_converted_p1</th>\n",
       "      <th>break_points_converted_p2</th>\n",
       "      <th>return_games_played_p1</th>\n",
       "      <th>return_games_played_p2</th>\n",
       "      <th>service_points_won_p1</th>\n",
       "      <th>service_points_won_p2</th>\n",
       "      <th>return_points_won_p1</th>\n",
       "      <th>return_points_won_p2</th>\n",
       "      <th>total_points_won_p1</th>\n",
       "      <th>total_points_won_p2</th>\n",
       "    </tr>\n",
       "  </thead>\n",
       "  <tbody>\n",
       "    <tr>\n",
       "      <th>0</th>\n",
       "      <td>Sun, 26 May, 2024</td>\n",
       "      <td>UAMS Health Little Rock Open</td>\n",
       "      <td>02:19:00</td>\n",
       "      <td>Singles 1st Round Qualifying</td>\n",
       "      <td>E. Escobedo</td>\n",
       "      <td>N. Becker</td>\n",
       "      <td>6-3, 6-1</td>\n",
       "      <td>256</td>\n",
       "      <td>237</td>\n",
       "      <td>1</td>\n",
       "      <td>...</td>\n",
       "      <td>5/9</td>\n",
       "      <td>3/4</td>\n",
       "      <td>13</td>\n",
       "      <td>13</td>\n",
       "      <td>50/81</td>\n",
       "      <td>46/82</td>\n",
       "      <td>36/82</td>\n",
       "      <td>31/81</td>\n",
       "      <td>86/163</td>\n",
       "      <td>77/163</td>\n",
       "    </tr>\n",
       "    <tr>\n",
       "      <th>0</th>\n",
       "      <td>Sun, 26 May, 2024</td>\n",
       "      <td>UAMS Health Little Rock Open</td>\n",
       "      <td>01:20:29</td>\n",
       "      <td>Singles 1st Round Qualifying</td>\n",
       "      <td>B. Kuzuhara</td>\n",
       "      <td>B. Kozlov</td>\n",
       "      <td>3-6, 6-2, 6-3</td>\n",
       "      <td>256</td>\n",
       "      <td>237</td>\n",
       "      <td>1</td>\n",
       "      <td>...</td>\n",
       "      <td>5/9</td>\n",
       "      <td>3/4</td>\n",
       "      <td>13</td>\n",
       "      <td>13</td>\n",
       "      <td>50/81</td>\n",
       "      <td>46/82</td>\n",
       "      <td>36/82</td>\n",
       "      <td>31/81</td>\n",
       "      <td>86/163</td>\n",
       "      <td>77/163</td>\n",
       "    </tr>\n",
       "  </tbody>\n",
       "</table>\n",
       "<p>2 rows × 39 columns</p>\n",
       "</div>"
      ],
      "text/plain": [
       "                date                    tournament match_time  \\\n",
       "0  Sun, 26 May, 2024  UAMS Health Little Rock Open   02:19:00   \n",
       "0  Sun, 26 May, 2024  UAMS Health Little Rock Open   01:20:29   \n",
       "\n",
       "                          round     player_1   player_2          score  \\\n",
       "0  Singles 1st Round Qualifying  E. Escobedo  N. Becker       6-3, 6-1   \n",
       "0  Singles 1st Round Qualifying  B. Kuzuhara  B. Kozlov  3-6, 6-2, 6-3   \n",
       "\n",
       "   serve_rating_p1  serve_rating_p2  aces_p1  ...  break_points_converted_p1  \\\n",
       "0              256              237        1  ...                        5/9   \n",
       "0              256              237        1  ...                        5/9   \n",
       "\n",
       "   break_points_converted_p2  return_games_played_p1 return_games_played_p2  \\\n",
       "0                        3/4                      13                     13   \n",
       "0                        3/4                      13                     13   \n",
       "\n",
       "  service_points_won_p1 service_points_won_p2 return_points_won_p1  \\\n",
       "0                 50/81                 46/82                36/82   \n",
       "0                 50/81                 46/82                36/82   \n",
       "\n",
       "  return_points_won_p2 total_points_won_p1 total_points_won_p2  \n",
       "0                31/81              86/163              77/163  \n",
       "0                31/81              86/163              77/163  \n",
       "\n",
       "[2 rows x 39 columns]"
      ]
     },
     "execution_count": 289,
     "metadata": {},
     "output_type": "execute_result"
    }
   ],
   "source": [
    "pd.concat(rows)"
   ]
  },
  {
   "cell_type": "code",
   "execution_count": 275,
   "id": "ab47bc4d",
   "metadata": {},
   "outputs": [
    {
     "data": {
      "text/plain": [
       "<!DOCTYPE html>\n",
       "<html class=\"lang-en-us\" lang=\"en-US\"><head><title>Just a moment...</title><meta content=\"text/html; charset=utf-8\" http-equiv=\"Content-Type\"/><meta content=\"IE=Edge\" http-equiv=\"X-UA-Compatible\"/><meta content=\"noindex,nofollow\" name=\"robots\"/><meta content=\"width=device-width,initial-scale=1\" name=\"viewport\"/><style>*{box-sizing:border-box;margin:0;padding:0}html{line-height:1.15;-webkit-text-size-adjust:100%;color:#313131}button,html{font-family:system-ui,-apple-system,BlinkMacSystemFont,Segoe UI,Roboto,Helvetica Neue,Arial,Noto Sans,sans-serif,Apple Color Emoji,Segoe UI Emoji,Segoe UI Symbol,Noto Color Emoji}@media (prefers-color-scheme:dark){body{background-color:#222;color:#d9d9d9}body a{color:#fff}body a:hover{color:#ee730a;text-decoration:underline}body .lds-ring div{border-color:#999 transparent transparent}body .font-red{color:#b20f03}body .pow-button{background-color:#4693ff;color:#1d1d1d}body #challenge-success-text{background-image:url(data:image/svg+xml;base64,PHN2ZyB4bWxucz0iaHR0cDovL3d3dy53My5vcmcvMjAwMC9zdmciIHdpZHRoPSIzMiIgaGVpZ2h0PSIzMiIgZmlsbD0ibm9uZSIgdmlld0JveD0iMCAwIDI2IDI2Ij48cGF0aCBmaWxsPSIjZDlkOWQ5IiBkPSJNMTMgMGExMyAxMyAwIDEgMCAwIDI2IDEzIDEzIDAgMCAwIDAtMjZtMCAyNGExMSAxMSAwIDEgMSAwLTIyIDExIDExIDAgMCAxIDAgMjIiLz48cGF0aCBmaWxsPSIjZDlkOWQ5IiBkPSJtMTAuOTU1IDE2LjA1NS0zLjk1LTQuMTI1LTEuNDQ1IDEuMzg1IDUuMzcgNS42MSA5LjQ5NS05LjYtMS40Mi0xLjQwNXoiLz48L3N2Zz4=)}body #challenge-error-text{background-image:url(data:image/svg+xml;base64,PHN2ZyB4bWxucz0iaHR0cDovL3d3dy53My5vcmcvMjAwMC9zdmciIHdpZHRoPSIzMiIgaGVpZ2h0PSIzMiIgZmlsbD0ibm9uZSI+PHBhdGggZmlsbD0iI0IyMEYwMyIgZD0iTTE2IDNhMTMgMTMgMCAxIDAgMTMgMTNBMTMuMDE1IDEzLjAxNSAwIDAgMCAxNiAzbTAgMjRhMTEgMTEgMCAxIDEgMTEtMTEgMTEuMDEgMTEuMDEgMCAwIDEtMTEgMTEiLz48cGF0aCBmaWxsPSIjQjIwRjAzIiBkPSJNMTcuMDM4IDE4LjYxNUgxNC44N0wxNC41NjMgOS41aDIuNzgzem0tMS4wODQgMS40MjdxLjY2IDAgMS4wNTcuMzg4LjQwNy4zODkuNDA3Ljk5NCAwIC41OTYtLjQwNy45ODQtLjM5Ny4zOS0xLjA1Ny4zODktLjY1IDAtMS4wNTYtLjM4OS0uMzk4LS4zODktLjM5OC0uOTg0IDAtLjU5Ny4zOTgtLjk4NS40MDYtLjM5NyAxLjA1Ni0uMzk3Ii8+PC9zdmc+)}}body{display:flex;flex-direction:column;min-height:100vh}body.no-js .loading-spinner{visibility:hidden}body.no-js .challenge-running{display:none}body.dark{background-color:#222;color:#d9d9d9}body.dark a{color:#fff}body.dark a:hover{color:#ee730a;text-decoration:underline}body.dark .lds-ring div{border-color:#999 transparent transparent}body.dark .font-red{color:#b20f03}body.dark .pow-button{background-color:#4693ff;color:#1d1d1d}body.dark #challenge-success-text{background-image:url(data:image/svg+xml;base64,PHN2ZyB4bWxucz0iaHR0cDovL3d3dy53My5vcmcvMjAwMC9zdmciIHdpZHRoPSIzMiIgaGVpZ2h0PSIzMiIgZmlsbD0ibm9uZSIgdmlld0JveD0iMCAwIDI2IDI2Ij48cGF0aCBmaWxsPSIjZDlkOWQ5IiBkPSJNMTMgMGExMyAxMyAwIDEgMCAwIDI2IDEzIDEzIDAgMCAwIDAtMjZtMCAyNGExMSAxMSAwIDEgMSAwLTIyIDExIDExIDAgMCAxIDAgMjIiLz48cGF0aCBmaWxsPSIjZDlkOWQ5IiBkPSJtMTAuOTU1IDE2LjA1NS0zLjk1LTQuMTI1LTEuNDQ1IDEuMzg1IDUuMzcgNS42MSA5LjQ5NS05LjYtMS40Mi0xLjQwNXoiLz48L3N2Zz4=)}body.dark #challenge-error-text{background-image:url(data:image/svg+xml;base64,PHN2ZyB4bWxucz0iaHR0cDovL3d3dy53My5vcmcvMjAwMC9zdmciIHdpZHRoPSIzMiIgaGVpZ2h0PSIzMiIgZmlsbD0ibm9uZSI+PHBhdGggZmlsbD0iI0IyMEYwMyIgZD0iTTE2IDNhMTMgMTMgMCAxIDAgMTMgMTNBMTMuMDE1IDEzLjAxNSAwIDAgMCAxNiAzbTAgMjRhMTEgMTEgMCAxIDEgMTEtMTEgMTEuMDEgMTEuMDEgMCAwIDEtMTEgMTEiLz48cGF0aCBmaWxsPSIjQjIwRjAzIiBkPSJNMTcuMDM4IDE4LjYxNUgxNC44N0wxNC41NjMgOS41aDIuNzgzem0tMS4wODQgMS40MjdxLjY2IDAgMS4wNTcuMzg4LjQwNy4zODkuNDA3Ljk5NCAwIC41OTYtLjQwNy45ODQtLjM5Ny4zOS0xLjA1Ny4zODktLjY1IDAtMS4wNTYtLjM4OS0uMzk4LS4zODktLjM5OC0uOTg0IDAtLjU5Ny4zOTgtLjk4NS40MDYtLjM5NyAxLjA1Ni0uMzk3Ii8+PC9zdmc+)}body.light{background-color:transparent;color:#313131}body.light a{color:#0051c3}body.light a:hover{color:#ee730a;text-decoration:underline}body.light .lds-ring div{border-color:#595959 transparent transparent}body.light .font-red{color:#fc574a}body.light .pow-button{background-color:#003681;border-color:#003681;color:#fff}body.light #challenge-success-text{background-image:url(data:image/svg+xml;base64,PHN2ZyB4bWxucz0iaHR0cDovL3d3dy53My5vcmcvMjAwMC9zdmciIHdpZHRoPSIzMiIgaGVpZ2h0PSIzMiIgZmlsbD0ibm9uZSIgdmlld0JveD0iMCAwIDI2IDI2Ij48cGF0aCBmaWxsPSIjMzEzMTMxIiBkPSJNMTMgMGExMyAxMyAwIDEgMCAwIDI2IDEzIDEzIDAgMCAwIDAtMjZtMCAyNGExMSAxMSAwIDEgMSAwLTIyIDExIDExIDAgMCAxIDAgMjIiLz48cGF0aCBmaWxsPSIjMzEzMTMxIiBkPSJtMTAuOTU1IDE2LjA1NS0zLjk1LTQuMTI1LTEuNDQ1IDEuMzg1IDUuMzcgNS42MSA5LjQ5NS05LjYtMS40Mi0xLjQwNXoiLz48L3N2Zz4=)}body.light #challenge-error-text{background-image:url(data:image/svg+xml;base64,PHN2ZyB4bWxucz0iaHR0cDovL3d3dy53My5vcmcvMjAwMC9zdmciIHdpZHRoPSIzMiIgaGVpZ2h0PSIzMiIgZmlsbD0ibm9uZSI+PHBhdGggZmlsbD0iI2ZjNTc0YSIgZD0iTTE2IDNhMTMgMTMgMCAxIDAgMTMgMTNBMTMuMDE1IDEzLjAxNSAwIDAgMCAxNiAzbTAgMjRhMTEgMTEgMCAxIDEgMTEtMTEgMTEuMDEgMTEuMDEgMCAwIDEtMTEgMTEiLz48cGF0aCBmaWxsPSIjZmM1NzRhIiBkPSJNMTcuMDM4IDE4LjYxNUgxNC44N0wxNC41NjMgOS41aDIuNzgzem0tMS4wODQgMS40MjdxLjY2IDAgMS4wNTcuMzg4LjQwNy4zODkuNDA3Ljk5NCAwIC41OTYtLjQwNy45ODQtLjM5Ny4zOS0xLjA1Ny4zODktLjY1IDAtMS4wNTYtLjM4OS0uMzk4LS4zODktLjM5OC0uOTg0IDAtLjU5Ny4zOTgtLjk4NS40MDYtLjM5NyAxLjA1Ni0uMzk3Ii8+PC9zdmc+)}a{background-color:transparent;color:#0051c3;text-decoration:none;transition:color .15s ease}a:hover{color:#ee730a;text-decoration:underline}.main-content{margin:8rem auto;max-width:60rem;width:100%}.heading-favicon{height:2rem;margin-right:.5rem;width:2rem}@media (width <= 720px){.main-content{margin-top:4rem}.heading-favicon{height:1.5rem;width:1.5rem}}.footer,.main-content{padding-left:1.5rem;padding-right:1.5rem}.main-wrapper{align-items:center;display:flex;flex:1;flex-direction:column}.font-red{color:#b20f03}.spacer{margin:2rem 0}.h1{font-size:2.5rem;font-weight:500;line-height:3.75rem}.h2{font-weight:500}.core-msg,.h2{font-size:1.5rem;line-height:2.25rem}.body-text,.core-msg{font-weight:400}.body-text{font-size:1rem;line-height:1.25rem}@media (width <= 720px){.h1{font-size:1.5rem;line-height:1.75rem}.h2{font-size:1.25rem}.core-msg,.h2{line-height:1.5rem}.core-msg{font-size:1rem}}#challenge-error-text{background-image:url(data:image/svg+xml;base64,PHN2ZyB4bWxucz0iaHR0cDovL3d3dy53My5vcmcvMjAwMC9zdmciIHdpZHRoPSIzMiIgaGVpZ2h0PSIzMiIgZmlsbD0ibm9uZSI+PHBhdGggZmlsbD0iI2ZjNTc0YSIgZD0iTTE2IDNhMTMgMTMgMCAxIDAgMTMgMTNBMTMuMDE1IDEzLjAxNSAwIDAgMCAxNiAzbTAgMjRhMTEgMTEgMCAxIDEgMTEtMTEgMTEuMDEgMTEuMDEgMCAwIDEtMTEgMTEiLz48cGF0aCBmaWxsPSIjZmM1NzRhIiBkPSJNMTcuMDM4IDE4LjYxNUgxNC44N0wxNC41NjMgOS41aDIuNzgzem0tMS4wODQgMS40MjdxLjY2IDAgMS4wNTcuMzg4LjQwNy4zODkuNDA3Ljk5NCAwIC41OTYtLjQwNy45ODQtLjM5Ny4zOS0xLjA1Ny4zODktLjY1IDAtMS4wNTYtLjM4OS0uMzk4LS4zODktLjM5OC0uOTg0IDAtLjU5Ny4zOTgtLjk4NS40MDYtLjM5NyAxLjA1Ni0uMzk3Ii8+PC9zdmc+);padding-left:34px}#challenge-error-text,#challenge-success-text{background-repeat:no-repeat;background-size:contain}#challenge-success-text{background-image:url(data:image/svg+xml;base64,PHN2ZyB4bWxucz0iaHR0cDovL3d3dy53My5vcmcvMjAwMC9zdmciIHdpZHRoPSIzMiIgaGVpZ2h0PSIzMiIgZmlsbD0ibm9uZSIgdmlld0JveD0iMCAwIDI2IDI2Ij48cGF0aCBmaWxsPSIjMzEzMTMxIiBkPSJNMTMgMGExMyAxMyAwIDEgMCAwIDI2IDEzIDEzIDAgMCAwIDAtMjZtMCAyNGExMSAxMSAwIDEgMSAwLTIyIDExIDExIDAgMCAxIDAgMjIiLz48cGF0aCBmaWxsPSIjMzEzMTMxIiBkPSJtMTAuOTU1IDE2LjA1NS0zLjk1LTQuMTI1LTEuNDQ1IDEuMzg1IDUuMzcgNS42MSA5LjQ5NS05LjYtMS40Mi0xLjQwNXoiLz48L3N2Zz4=);padding-left:42px}.text-center{text-align:center}.pow-button{background-color:#0051c3;border:.063rem solid #0051c3;border-radius:.313rem;color:#fff;font-size:.875rem;line-height:1.313rem;margin:2rem 0;padding:.375rem 1rem;transition-duration:.2s;transition-property:background-color,border-color,color;transition-timing-function:ease}.pow-button:hover{background-color:#003681;border-color:#003681;color:#fff;cursor:pointer}.footer{font-size:.75rem;line-height:1.125rem;margin:0 auto;max-width:60rem;width:100%}.footer-inner{border-top:1px solid #d9d9d9;padding-bottom:1rem;padding-top:1rem}.clearfix:after{clear:both;content:\"\";display:table}.clearfix .column{float:left;padding-right:1.5rem;width:50%}.diagnostic-wrapper{margin-bottom:.5rem}.footer .ray-id{text-align:center}.footer .ray-id code{font-family:monaco,courier,monospace}.core-msg,.zone-name-title{overflow-wrap:break-word}@media (width <= 720px){.diagnostic-wrapper{display:flex;flex-wrap:wrap;justify-content:center}.clearfix:after{clear:none;content:none;display:initial;text-align:center}.column{padding-bottom:2rem}.clearfix .column{float:none;padding:0;width:auto;word-break:keep-all}.zone-name-title{margin-bottom:1rem}}.loading-spinner{height:76.391px}.lds-ring{display:inline-block;position:relative}.lds-ring,.lds-ring div{height:1.875rem;width:1.875rem}.lds-ring div{animation:lds-ring 1.2s cubic-bezier(.5,0,.5,1) infinite;border:.3rem solid transparent;border-radius:50%;border-top-color:#313131;box-sizing:border-box;display:block;position:absolute}.lds-ring div:first-child{animation-delay:-.45s}.lds-ring div:nth-child(2){animation-delay:-.3s}.lds-ring div:nth-child(3){animation-delay:-.15s}@keyframes lds-ring{0%{transform:rotate(0)}to{transform:rotate(1turn)}}@media screen and (-ms-high-contrast:active),screen and (-ms-high-contrast:none){.main-wrapper,body{display:block}}.rtl .heading-favicon{margin-left:.5rem;margin-right:0}.rtl #challenge-success-text{background-position:100%;padding-left:0;padding-right:42px}.rtl #challenge-error-text{background-position:100%;padding-left:0;padding-right:34px}</style><meta content=\"390\" http-equiv=\"refresh\"/><script src=\"/cdn-cgi/challenge-platform/h/g/orchestrate/chl_page/v1?ray=89ccb63b19b114fa\"></script><script async=\"\" crossorigin=\"anonymous\" defer=\"\" src=\"https://challenges.cloudflare.com/turnstile/v0/g/d2a97f6b6ec9/api.js?onload=KHGO2&amp;render=explicit\"></script></head><body class=\"no-js\"><div class=\"main-wrapper\" role=\"main\"><div class=\"main-content\"><h1 class=\"zone-name-title h1\"><img alt=\"Icon for www.atptour.com\" class=\"heading-favicon\" src=\"/favicon.ico\"/>www.atptour.com</h1><h2 class=\"h2\" id=\"AYJX7\">Verifying you are human. This may take a few seconds.</h2><div id=\"qrVk5\"></div><div class=\"spacer loading-spinner\" id=\"BIAT5\" style=\"display: block; visibility: visible;\"><div class=\"lds-ring\"><div></div><div></div><div></div><div></div></div></div><div class=\"core-msg spacer\" id=\"DXWF6\">www.atptour.com needs to review the security of your connection before proceeding.</div><div id=\"vHcX4\" style=\"display: none;\"><div class=\"h2\" id=\"challenge-success-text\">Verification successful</div><div class=\"core-msg spacer\">Waiting for www.atptour.com to respond...</div></div><noscript><div id=\"challenge-error-title\"><div class=\"h2\"><span id=\"challenge-error-text\">Enable JavaScript and cookies to continue</span></div></div></noscript></div></div><script>(function(){window._cf_chl_opt={cvId: '3',cZone: \"www.atptour.com\",cType: 'managed',cNounce: '83880',cRay: '89ccb63b19b114fa',cHash: 'aa5cf8f13410840',cUPMDTk: \"\\/en\\/scores\\/stats-centre\\/archive\\/2024\\/9188\\/qs016?__cf_chl_tk=IROEnjphV8.cCkARcGSBSgmnZxNfZoOMw4TEj8OBH_4-1719903133-0.0.1.1-4201\",cFPWv: 'g',cTTimeMs: '1000',cMTimeMs: '390000',cTplV: 5,cTplB: 'cf',cK: \"visitor-time\",fa: \"\\/en\\/scores\\/stats-centre\\/archive\\/2024\\/9188\\/qs016?__cf_chl_f_tk=IROEnjphV8.cCkARcGSBSgmnZxNfZoOMw4TEj8OBH_4-1719903133-0.0.1.1-4201\",md: \"PJu5kMhBbZWZxcadli7ZKVDhAXpoW1KTKY2JG3HoOeY-1719903133-1.1.1.1-tSvumYh0AysYYrRWpMv.UMWTcms1B4jFzJWrzIgWJ_iiOogVHhtlMG4si8V1BZ04QY9yxh1pqUZWs3J9IP1a2YmJXVkvwk.ZehAiZsA11BKAQOmafKWlq8tboUymvOo1ZyZYoUsfaR9gLqY1ztB5rCWK.WI8ZvIsCoBoO8GaxL_o0gI3JVQDele3Wplk1Xr2x9EPc5zxu5MuGNqYUR92aUXQUQMEBTUz7opAakBHucL1gp0iiJ0nrQCFccS_IM7Z36ttcRsUzU7.SJXphAKT3tdTsNIxk3oAX1_0FiNgEklG2qwyatU7da3FHJqWNeaBFqThvvLkURNRroJsto3YM6OZsqQTP0FRKRdt5LvTLsbw2jF42SG4H2ksQuQGA6EKrdRl4LmcahT.VCpe_RRmoGKQ_GVSftdxluPgNGoR36o.eAwMgfUAjxtPAobpPTdiQs2BhPlUVzUWdBe3vRzRyKtLq3x5hZzOp.Zefi21OJ926Nwxt6EtVj0qUAX6fqsvACmNOAf1z.X2EOJyGJsOZ5QvV5BvSuUypOcLeL0obgsdFzJiDV.oPlBi1LfRXOfjrEHFN8dpgFSXPCatbVyU4Rz0FLFbTd6FaROIrO.T7K.moR.mMwVV_aOsrs1HOZCvNj7CU2BHPkYBB0UjHNtTrmR6q8CtUF94ZNx7v6kMTxrBuiH8EkblLPyLmpd0c0mULjnzZsytFuU82Sr3RocvpVRRB_IpMVtz5DPQxVsPrDcXl2Ob_Qyj92yUeVRAxWkKMR0sri76.i60PkTE52S.9CSJ25E.quNlA3hSC30mQ8HzGImd5JPIB1svb8Vfb1mDbX5rcEthNrfY93giH4Z131mYuLfgZ5WpXCHzLE7sJlFNaLaMBNxzC_YalZlfMLaRQmSzNq7qMX.5qPh2PIU3QExf8hN_jO3A.ON4di2a49QShljIlci.Pmu5LALa.RxcHtirxJft4.HSKM3.1zKiuBV84j4D.Lg5NiF7Fw.YCcl11jm2OAyHthMqzDh1pSPIUeTZO2cGrWWXy53Wt9ZjzUDDWI3Ap..ZGMWhP_9sI9obNgAXg9PaWPHMlHj9KVKpSQKn2Rs05mXscQurHCmHnHZc_FJZDIYUnqUEVlZuJnDIDJ9oSxNFKSXBGypNAq5YqfLH0HIRF1d4Thu.7k.Mqlj43NFMJLnpUmwQPb3XnIhqZIT_2XTUYpG2L46c4Db39gO9pgiwfPKItg.raYLEXswWR_1gYGUQTFWeiDcq6z0khoFcCa1ftZmv_xM8oRiFfGuo0q1MG4jW.fRF8eEu1wVxtZOdiYcg67paGH1t48YYS0Q5mS1LTwtKh1JJWS4HmiZYZY1n5O_3W22osenYGF8vtuDNdY2hUBeEbEAv3onF.LWXWE0o583qr4PkxPQDkM8ZqXX6h9q3y2t4FR6UFqL.RE0EU7Z6ez9SATXc1R5Ahrk_ITKn7y_iZc4Gmuh_imIWvkQS9L3QAwZ6VBxL85qIdTRIHZSGNgGEs.bT_6X3u_M0wZt2PLombSzjNo1tW1pbHbAAOJLHClAd.WIVkS8Cr5wtTmBcR9V0jBZzueWUOwIg5dTldd0c3b5Kp1C.\",mdrd: \"z1M2D_LKVJRQiGi8fUdfGfl6mNKK9rKq.G4Y.e7.QH8-1719903133-1.1.1.1-wa258l0LyuEcrmi0U4kAKoxOm9JIbD3kfBNaia9wn5i1rFuagnxXy678IGUahAENex2oNwmPqMNlHjjj.Xifwx4_jW77mcMFDr5OgEQpeijo_90gRekx6bLT0SsQTbI6RwBlAfX3RlGcdhgP65W7JTwEr2swM8sfJyhpqYQXhurMZUsWw0MXUsjwLk2kW0n_4E6Qvbe9eQ.NbT6BhU1oKhEf8mbtnb76YX4DuXWzbxFLmts7pUikAcLqHUw7mXJiM41tDgN9AfW3M8ehR_04SZHGIPSJV1G.wbwiW7a5lMTBfGraebuAVN7_vYyM1k.PUly7cMsPIBiDwxKZ77g5ruLeWxDnvYcJC_Q.nvjmL3zXuAmJGjEZ4ZgQxNQyEEyahLTmApFXNcy6QdWfyDQBhcbe.3T8yP21Git_lqF4iaQNajGaxiNqgMexLC1L1VXULGwWEMGJCWjF_4tXfnJseSbhF7HptFntJ4y9y_.yj3NCOjfMTyPTXqd8oo22r8GzUA_tEoov6396PNLDNWZcvs96hJigD2NbDjpWCilUzCW7eMom.dUVTYjPxWP_tmKPx2d.IFOr8tk8XFb6e.OoqDiYTAwAAhQT791dBzXPrOgWxlsbVbi0yE1xSwYaUkSTgI4uZfjfgs0VgkLpUL9vM5qrqTqafJP1L0bWJY3vPmriobM7rbBFT71VitAIXqJ6CftJf_.O2y0vDEJRZYaLauUilF_i563z.VtP_f6wZQF6DUQ3KwBf.uwy9dzPwIiTfzHddyQ5YQ94.5J_MmxlyrYJxVsPjTXlGs1TIEmrGUGAOAYxZEQy8TSSaXEh6JSPwZbJPHvxG23CWDrGYnwixm7ZJp7Ve63EwMd8IZNVrNDxC_RSbRvNaH9dGq2iOKeRC6GB1HKRGSMvV84_OdWC2pYryV6v4MLj_ilFC7N9Q4z11Z1wEIDVEvGeyLq.sCHUI.WAcan5F5G6cb5KU5rW3rE_UQqtGK.sqRnC13DTI0xzxscGjwk8iWzeRs6HS2gzJ5Fo5wNIZlHmmHSDfW1Oj3Vv8rh8FYz6b8kj.a_RMXmj_CXJHxk1xTXSICJlO3adb5OThJZqd4BadRteGLXMhdwwPx4uXU7pdgHhUTwqeDP3xIIM.ONapYK3HhciOTOHu5KjaX8ZuQMqe16yPNdVzmOdptv4MJlRHEBgx_ZTl5ucU6qowfKXfSl02_Vla4VuzBQbOdiMnvthnsIlmagefuSAKKJ0_q2x.BekeJmT5JUSn1VXNAFLpTyewcW3gXQCsLJCA4bJ0zH7DlTjG4POIkKO3pJ8cOh.Jn0o.G0.AT2AwjDjYBTKuoY0gTQSgu4oJxngNpeXGgivZ8wS9BrvVWg1vwuNgcaiAuorvNQNpLhUFBj3_NTzi5q5IZmiDyFNphQCaVZikNqnaIwzDk29odU7_xnfX2Q_cRTVxY3FBYqDOd9nsDYZdNMAzM.BXGD2lkmy8dz7Vws9p9xrHqASVBL.kC_yXRz7SLCPx5s8Jndc1wRCp5y97pzegR4j.5nA7pXYACQlSKWB8y0JKrpj.tRIRZNBmUfw6XqrktzTIXHECw_.wVIbxqPM6vIJsfx4UTDzpLd4G17eEsD9z5Zfc0FwY55V4U5xigRKc2JJ9OR85DMIzIHyE6QOp9OckvxmZxjXS3b46GRn0qwO7zMdAGHiriliCmQm6AJzDS3QZTzWx6ox9wbD9IDQR.OCz48wNoXE_5C_sYQoNAnrQau_PySR2w3X0OXn6NslE.YrSusbP6xMvwlEvyBgbPc_08ROsI7004mH5JdLbJWV2zn3fLuirc.WPL9p_nVW0bOufcIItsncKvfqjSuCdUQzhNlI1COL5feaRrmbX9_y3HXXP3PTVzmBotbENHDzSdOsaiIsS_6CdDywWkez6X6s8yz_e4R6fW.Hy2MNdJy9x_aLmp3tKG5OEDK2NV.WFlrg30Ipjy35YkFszIYayzRFVs4eHiSbyDUSTQveXsV8wUUrYGYUcnuS5Q8OVKB58S8IBJbio22ThiCCJ5vjyJJyMi6HgYLeUGX3mHyAflyw0GshEqqNlNj1qz9yuWAhncj6dnWu0pFE1fYohnBaX3mQtJTpChMyob9Z3sI4n3DH.LMhqUPP4_RarHzbKctea2RiryBH392evzqkBz9ArCQna0Zug7LVrHljAR.9DO4PH5DfONoGT2vSC_zphdZzawZw.YwllOt46yBvkI1ZOr29D53N.uE0OE_kzziHI5s3Q1cvg5TpM.x6WTN2O3lpR.IYvKS603fOqShavb.ebevdziQRPLb.jvYqaipu4yQJPfiIYZTgAJE65.9ECAqn6vzw0CP_3e2w.7SERGOxpw8637sqiF.Ljc3fafXrISTB3PwGDwm_YNDR4N6zNN5pboMfHGh6IxMKEXHygNvwSw_7U5gpwGZJQvV_RPqYTDS.DQ07YdJ262TChMnAIsCVsMPL3Bw\",cRq: {ru: 'aHR0cHM6Ly93d3cuYXRwdG91ci5jb20vZW4vc2NvcmVzL3N0YXRzLWNlbnRyZS9hcmNoaXZlLzIwMjQvOTE4OC9xczAxNg==',ra: 'TW96aWxsYS81LjAgKE1hY2ludG9zaDsgSW50ZWwgTWFjIE9TIFggMTBfMTVfNykgQXBwbGVXZWJLaXQvNTM3LjM2IChLSFRNTCwgbGlrZSBHZWNrbykgSGVhZGxlc3NDaHJvbWUvMTE3LjAuNTkzOC4wIFNhZmFyaS81MzcuMzY=',rm: 'R0VU',d: '9YI5C8/a4ozw2+qOGZkl337Kx+u49HvKeuEOdr+8xzvEI51W/Og4lZoTIckSoV0U0dmFhOUHFYKDwdqBT7+fewZseC0TZvx4SnEh2unZXCs5pJMKV2EO2Ollr3Z+qmLqQjO1IjZ5O6oZ9YISWkRbwLdypuSLTr+MYKHtHyRbTHTe52+4O2GnkmEpJbvIRtICTP9nVJGjVzAO0slr0o8+wARCsAaDgWloakGNeAGmFeZEgkibK8S7mK+Aw0GMPwxWsHby4B7j6IMxW8X9DRn5cqvjCEGqu1xPg2RzKKjqwzLEjHkxFzwxjBKKXhQYP4NUOQ75Ex4jGrfOjNTY/oejfXA4O6QtAro3+1L3vizOl5BNh4tt5AOuw+Z8msATx594oWD3Igoxpbd8xhFBe2FNZRhVcG+caGZVTPI8C16WNLEUWihsfoAVz7eSBN5VU58z7wq/xhrpKfRn0mcFGCLddbDW+ARdf17Cd9HGGPL/1+xozXUMOQLy1gmwnkFH4eoAww2AJ+OSzGj9d6TF2LUYdbduKGwgz/PXzdybZxAn77YkQb/0RGgFHnEHdSrXz2XI',t: 'MTcxOTkwMzEzMy4wMDAwMDA=',cT: Math.floor(Date.now() / 1000),m: 'gex42QWnbCQW5E2mia+jCsAScMkv8R3I9ONuv8KL77s=',i1: '8xvWBKfOQKA2DGTGrYDktw==',i2: 'LmrU4aY/lZICn818S9UClg==',zh: 'PJLkxjIOmNWif+OPTw2lA+hmiaDpa5YbFCG05r6uT0o=',uh: '5Kq8SVOX1NzuU6aCBVQPXnSsOnLLIv5RmyxjMkjUozQ=',hh: '42LSexryIPJQ97DAurHrvvJmM63e8yDxNGAL5e3XKx0=',}};var cpo = document.createElement('script');cpo.src = '/cdn-cgi/challenge-platform/h/g/orchestrate/chl_page/v1?ray=89ccb63b19b114fa';window._cf_chl_opt.cOgUHash = location.hash === '' && location.href.indexOf('#') !== -1 ? '#' : location.hash;window._cf_chl_opt.cOgUQuery = location.search === '' && location.href.slice(0, location.href.length - window._cf_chl_opt.cOgUHash.length).indexOf('?') !== -1 ? '?' : location.search;if (window.history && window.history.replaceState) {var ogU = location.pathname + window._cf_chl_opt.cOgUQuery + window._cf_chl_opt.cOgUHash;history.replaceState(null, null, \"\\/en\\/scores\\/stats-centre\\/archive\\/2024\\/9188\\/qs016?__cf_chl_rt_tk=IROEnjphV8.cCkARcGSBSgmnZxNfZoOMw4TEj8OBH_4-1719903133-0.0.1.1-4201\" + window._cf_chl_opt.cOgUHash);cpo.onload = function() {history.replaceState(null, null, ogU);}}document.getElementsByTagName('head')[0].appendChild(cpo);}());</script><script crossorigin=\"anonymous\" data-cf-beacon='{\"rayId\":\"89ccb63b19b114fa\",\"b\":1,\"version\":\"2024.4.1\",\"token\":\"dce0378d83254412a41d0bd09d887e42\"}' defer=\"\" integrity=\"sha512-ZpsOmlRQV6y907TI0dKBHq9Md29nnaEIPlkf84rnaERnq6zvWvPUqr2ft8M1aS28oN72PdrCzSjY4U6VaAw1EQ==\" src=\"https://static.cloudflareinsights.com/beacon.min.js/vcd15cbe7772f49c399c6a5babf22c1241717689176015\"></script>\n",
       "<div class=\"footer\" role=\"contentinfo\"><div class=\"footer-inner\"><div class=\"clearfix diagnostic-wrapper\"><div class=\"ray-id\">Ray ID: <code>89ccb63b19b114fa</code></div></div><div class=\"text-center\" id=\"footer-text\">Performance &amp; security by Cloudflare</div></div></div></body></html>"
      ]
     },
     "execution_count": 275,
     "metadata": {},
     "output_type": "execute_result"
    }
   ],
   "source": [
    "stats_soup"
   ]
  },
  {
   "cell_type": "code",
   "execution_count": 290,
   "id": "fc287e6c",
   "metadata": {
    "scrolled": true
   },
   "outputs": [
    {
     "data": {
      "text/plain": [
       "<Response [429]>"
      ]
     },
     "execution_count": 290,
     "metadata": {},
     "output_type": "execute_result"
    }
   ],
   "source": [
    "requests.get(stats_link)"
   ]
  },
  {
   "cell_type": "code",
   "execution_count": 283,
   "id": "d5091f5b",
   "metadata": {},
   "outputs": [
    {
     "data": {
      "text/plain": [
       "<Future finished result=<Response [429]>>"
      ]
     },
     "execution_count": 283,
     "metadata": {},
     "output_type": "execute_result"
    }
   ],
   "source": [
    "r"
   ]
  },
  {
   "cell_type": "code",
   "execution_count": null,
   "id": "1c52aa77",
   "metadata": {},
   "outputs": [],
   "source": []
  }
 ],
 "metadata": {
  "kernelspec": {
   "display_name": "Python 3 (ipykernel)",
   "language": "python",
   "name": "python3"
  },
  "language_info": {
   "codemirror_mode": {
    "name": "ipython",
    "version": 3
   },
   "file_extension": ".py",
   "mimetype": "text/x-python",
   "name": "python",
   "nbconvert_exporter": "python",
   "pygments_lexer": "ipython3",
   "version": "3.8.19"
  }
 },
 "nbformat": 4,
 "nbformat_minor": 5
}
